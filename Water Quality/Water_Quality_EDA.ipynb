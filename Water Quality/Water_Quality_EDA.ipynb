{
 "cells": [
  {
   "cell_type": "markdown",
   "id": "2a2a7585",
   "metadata": {},
   "source": [
    "# Water Quality Solution"
   ]
  },
  {
   "cell_type": "markdown",
   "id": "83068d8a",
   "metadata": {},
   "source": [
    "### Data Cleaning"
   ]
  },
  {
   "cell_type": "code",
   "execution_count": 7,
   "id": "6d744e9b",
   "metadata": {},
   "outputs": [],
   "source": [
    "#Importing libraries\n",
    "\n",
    "import pandas as pd\n",
    "import numpy as np\n",
    "import seaborn as sns\n",
    "import matplotlib.pyplot as plt"
   ]
  },
  {
   "cell_type": "code",
   "execution_count": 8,
   "id": "55d0df12",
   "metadata": {},
   "outputs": [
    {
     "data": {
      "text/html": [
       "<div>\n",
       "<style scoped>\n",
       "    .dataframe tbody tr th:only-of-type {\n",
       "        vertical-align: middle;\n",
       "    }\n",
       "\n",
       "    .dataframe tbody tr th {\n",
       "        vertical-align: top;\n",
       "    }\n",
       "\n",
       "    .dataframe thead th {\n",
       "        text-align: right;\n",
       "    }\n",
       "</style>\n",
       "<table border=\"1\" class=\"dataframe\">\n",
       "  <thead>\n",
       "    <tr style=\"text-align: right;\">\n",
       "      <th></th>\n",
       "      <th>Station_Code</th>\n",
       "      <th>Station_Name</th>\n",
       "      <th>State_Name</th>\n",
       "      <th>Minimum_Temperature</th>\n",
       "      <th>Maximum_Temperature</th>\n",
       "      <th>Minimum_DissolvedO2</th>\n",
       "      <th>Maximum_DissolvedO2</th>\n",
       "      <th>Minimum_pH</th>\n",
       "      <th>Maximum_pH</th>\n",
       "      <th>Minimum_Conductivity</th>\n",
       "      <th>Maximum_Conductivity</th>\n",
       "      <th>Minimum_BOD</th>\n",
       "      <th>Maximum_BOD</th>\n",
       "      <th>Minimum_NitrateN_and_NitriteN</th>\n",
       "      <th>Maximum_NitrateN_and_NitriteN</th>\n",
       "      <th>Minimum_Fecal_Coliform</th>\n",
       "      <th>Maximum_Fecal_Coliform</th>\n",
       "      <th>Minimum_Total_Coliform</th>\n",
       "      <th>Maximum_Total_Coliform</th>\n",
       "    </tr>\n",
       "  </thead>\n",
       "  <tbody>\n",
       "    <tr>\n",
       "      <th>0</th>\n",
       "      <td>4358</td>\n",
       "      <td>RIVER GOWTHAMI (GODAVARI) GOVALANKA, INJARAM (...</td>\n",
       "      <td>ANDHRA PRADESH</td>\n",
       "      <td>25</td>\n",
       "      <td>31</td>\n",
       "      <td>5.8</td>\n",
       "      <td>6.8</td>\n",
       "      <td>7.1</td>\n",
       "      <td>8.4</td>\n",
       "      <td>228</td>\n",
       "      <td>60900</td>\n",
       "      <td>1.3</td>\n",
       "      <td>2.4</td>\n",
       "      <td>0.7</td>\n",
       "      <td>3.09</td>\n",
       "      <td>4</td>\n",
       "      <td>20</td>\n",
       "      <td>93</td>\n",
       "      <td>210</td>\n",
       "    </tr>\n",
       "    <tr>\n",
       "      <th>1</th>\n",
       "      <td>1448</td>\n",
       "      <td>NAGAVALI AT THOTAPALLI REGULATOR, VIZIANAGARAM</td>\n",
       "      <td>ANDHRA PRADESH</td>\n",
       "      <td>24</td>\n",
       "      <td>36</td>\n",
       "      <td>5.7</td>\n",
       "      <td>8.1</td>\n",
       "      <td>6.7</td>\n",
       "      <td>8.4</td>\n",
       "      <td>200</td>\n",
       "      <td>585</td>\n",
       "      <td>1.2</td>\n",
       "      <td>2.5</td>\n",
       "      <td>0.23</td>\n",
       "      <td>9.35</td>\n",
       "      <td>7</td>\n",
       "      <td>21</td>\n",
       "      <td>75</td>\n",
       "      <td>2400</td>\n",
       "    </tr>\n",
       "    <tr>\n",
       "      <th>2</th>\n",
       "      <td>4346</td>\n",
       "      <td>RIVER NAGAVALI NEAR NH- 16 BRIDGE,\\nUPSTREAM (...</td>\n",
       "      <td>ANDHRA PRADESH</td>\n",
       "      <td>21</td>\n",
       "      <td>30</td>\n",
       "      <td>5</td>\n",
       "      <td>8.5</td>\n",
       "      <td>7.2</td>\n",
       "      <td>8.7</td>\n",
       "      <td>234</td>\n",
       "      <td>631</td>\n",
       "      <td>0.8</td>\n",
       "      <td>2.7</td>\n",
       "      <td>0.24</td>\n",
       "      <td>2.13</td>\n",
       "      <td>4</td>\n",
       "      <td>11</td>\n",
       "      <td>69</td>\n",
       "      <td>120</td>\n",
       "    </tr>\n",
       "    <tr>\n",
       "      <th>3</th>\n",
       "      <td>4347</td>\n",
       "      <td>RIVER NAGAVALI NEAR WATER PUMP HOUSE (KILLIPAL...</td>\n",
       "      <td>ANDHRA PRADESH</td>\n",
       "      <td>21</td>\n",
       "      <td>30</td>\n",
       "      <td>4.6</td>\n",
       "      <td>7</td>\n",
       "      <td>7.1</td>\n",
       "      <td>8.5</td>\n",
       "      <td>302</td>\n",
       "      <td>1090</td>\n",
       "      <td>1.2</td>\n",
       "      <td>2.6</td>\n",
       "      <td>0.96</td>\n",
       "      <td>8.64</td>\n",
       "      <td>15</td>\n",
       "      <td>20</td>\n",
       "      <td>120</td>\n",
       "      <td>1100</td>\n",
       "    </tr>\n",
       "    <tr>\n",
       "      <th>4</th>\n",
       "      <td>4348</td>\n",
       "      <td>RIVER VAMSADHARA, IMMEDIATE BORDER BETWEEN AND...</td>\n",
       "      <td>ANDHRA PRADESH</td>\n",
       "      <td>20</td>\n",
       "      <td>34</td>\n",
       "      <td>6.5</td>\n",
       "      <td>8.1</td>\n",
       "      <td>6.7</td>\n",
       "      <td>8.3</td>\n",
       "      <td>254</td>\n",
       "      <td>384</td>\n",
       "      <td>1.4</td>\n",
       "      <td>2.6</td>\n",
       "      <td>0.16</td>\n",
       "      <td>2.29</td>\n",
       "      <td>7</td>\n",
       "      <td>21</td>\n",
       "      <td>93</td>\n",
       "      <td>460</td>\n",
       "    </tr>\n",
       "  </tbody>\n",
       "</table>\n",
       "</div>"
      ],
      "text/plain": [
       "   Station_Code                                       Station_Name  \\\n",
       "0          4358  RIVER GOWTHAMI (GODAVARI) GOVALANKA, INJARAM (...   \n",
       "1          1448     NAGAVALI AT THOTAPALLI REGULATOR, VIZIANAGARAM   \n",
       "2          4346  RIVER NAGAVALI NEAR NH- 16 BRIDGE,\\nUPSTREAM (...   \n",
       "3          4347  RIVER NAGAVALI NEAR WATER PUMP HOUSE (KILLIPAL...   \n",
       "4          4348  RIVER VAMSADHARA, IMMEDIATE BORDER BETWEEN AND...   \n",
       "\n",
       "       State_Name Minimum_Temperature Maximum_Temperature Minimum_DissolvedO2  \\\n",
       "0  ANDHRA PRADESH                  25                  31                 5.8   \n",
       "1  ANDHRA PRADESH                  24                  36                 5.7   \n",
       "2  ANDHRA PRADESH                  21                  30                   5   \n",
       "3  ANDHRA PRADESH                  21                  30                 4.6   \n",
       "4  ANDHRA PRADESH                  20                  34                 6.5   \n",
       "\n",
       "  Maximum_DissolvedO2  Minimum_pH  Maximum_pH Minimum_Conductivity  \\\n",
       "0                 6.8         7.1         8.4                  228   \n",
       "1                 8.1         6.7         8.4                  200   \n",
       "2                 8.5         7.2         8.7                  234   \n",
       "3                   7         7.1         8.5                  302   \n",
       "4                 8.1         6.7         8.3                  254   \n",
       "\n",
       "  Maximum_Conductivity Minimum_BOD Maximum_BOD Minimum_NitrateN_and_NitriteN  \\\n",
       "0                60900         1.3         2.4                           0.7   \n",
       "1                  585         1.2         2.5                          0.23   \n",
       "2                  631         0.8         2.7                          0.24   \n",
       "3                 1090         1.2         2.6                          0.96   \n",
       "4                  384         1.4         2.6                          0.16   \n",
       "\n",
       "  Maximum_NitrateN_and_NitriteN Minimum_Fecal_Coliform Maximum_Fecal_Coliform  \\\n",
       "0                          3.09                      4                     20   \n",
       "1                          9.35                      7                     21   \n",
       "2                          2.13                      4                     11   \n",
       "3                          8.64                     15                     20   \n",
       "4                          2.29                      7                     21   \n",
       "\n",
       "  Minimum_Total_Coliform Maximum_Total_Coliform  \n",
       "0                     93                    210  \n",
       "1                     75                   2400  \n",
       "2                     69                    120  \n",
       "3                    120                   1100  \n",
       "4                     93                    460  "
      ]
     },
     "execution_count": 8,
     "metadata": {},
     "output_type": "execute_result"
    }
   ],
   "source": [
    "#Importing dataset\n",
    "\n",
    "df = pd.read_csv(\"water_data.csv\")\n",
    "df.head()"
   ]
  },
  {
   "cell_type": "code",
   "execution_count": 9,
   "id": "4cf28b92",
   "metadata": {},
   "outputs": [
    {
     "name": "stdout",
     "output_type": "stream",
     "text": [
      "<class 'pandas.core.frame.DataFrame'>\n",
      "RangeIndex: 386 entries, 0 to 385\n",
      "Data columns (total 19 columns):\n",
      " #   Column                         Non-Null Count  Dtype  \n",
      "---  ------                         --------------  -----  \n",
      " 0   Station_Code                   386 non-null    int64  \n",
      " 1   Station_Name                   386 non-null    object \n",
      " 2   State_Name                     386 non-null    object \n",
      " 3   Minimum_Temperature            386 non-null    object \n",
      " 4   Maximum_Temperature            386 non-null    object \n",
      " 5   Minimum_DissolvedO2            386 non-null    object \n",
      " 6   Maximum_DissolvedO2            386 non-null    object \n",
      " 7   Minimum_pH                     386 non-null    float64\n",
      " 8   Maximum_pH                     386 non-null    float64\n",
      " 9   Minimum_Conductivity           386 non-null    object \n",
      " 10  Maximum_Conductivity           386 non-null    object \n",
      " 11  Minimum_BOD                    386 non-null    object \n",
      " 12  Maximum_BOD                    386 non-null    object \n",
      " 13  Minimum_NitrateN_and_NitriteN  384 non-null    object \n",
      " 14  Maximum_NitrateN_and_NitriteN  384 non-null    object \n",
      " 15  Minimum_Fecal_Coliform         386 non-null    object \n",
      " 16  Maximum_Fecal_Coliform         386 non-null    object \n",
      " 17  Minimum_Total_Coliform         386 non-null    object \n",
      " 18  Maximum_Total_Coliform         386 non-null    object \n",
      "dtypes: float64(2), int64(1), object(16)\n",
      "memory usage: 57.4+ KB\n"
     ]
    }
   ],
   "source": [
    "df.info()"
   ]
  },
  {
   "cell_type": "code",
   "execution_count": 10,
   "id": "1ee1694d",
   "metadata": {},
   "outputs": [
    {
     "data": {
      "text/plain": [
       "Station_Code                       int64\n",
       "Station_Name                      object\n",
       "State_Name                        object\n",
       "Minimum_Temperature              float64\n",
       "Maximum_Temperature              float64\n",
       "Minimum_DissolvedO2              float64\n",
       "Maximum_DissolvedO2              float64\n",
       "Minimum_pH                       float64\n",
       "Maximum_pH                       float64\n",
       "Minimum_Conductivity             float64\n",
       "Maximum_Conductivity             float64\n",
       "Minimum_BOD                      float64\n",
       "Maximum_BOD                      float64\n",
       "Minimum_NitrateN_and_NitriteN    float64\n",
       "Maximum_NitrateN_and_NitriteN    float64\n",
       "Minimum_Fecal_Coliform           float64\n",
       "Maximum_Fecal_Coliform           float64\n",
       "Minimum_Total_Coliform           float64\n",
       "Maximum_Total_Coliform           float64\n",
       "dtype: object"
      ]
     },
     "execution_count": 10,
     "metadata": {},
     "output_type": "execute_result"
    }
   ],
   "source": [
    "#From the above information, we can see that all our columns are of object type. To proceed with our analysis\n",
    "#we need to convert them to numeric type. \n",
    "\n",
    "df['Minimum_Temperature']=pd.to_numeric(df['Minimum_Temperature'],errors='coerce')\n",
    "df['Maximum_Temperature']=pd.to_numeric(df['Maximum_Temperature'],errors='coerce')\n",
    "df['Minimum_DissolvedO2']=pd.to_numeric(df['Minimum_DissolvedO2'],errors='coerce')\n",
    "df['Maximum_DissolvedO2']=pd.to_numeric(df['Maximum_DissolvedO2'],errors='coerce')\n",
    "df['Minimum_pH']=pd.to_numeric(df['Minimum_pH'],errors='coerce')\n",
    "df['Maximum_pH']=pd.to_numeric(df['Maximum_pH'],errors='coerce')\n",
    "df['Minimum_BOD']=pd.to_numeric(df['Minimum_BOD'],errors='coerce')\n",
    "df['Maximum_BOD']=pd.to_numeric(df['Maximum_BOD'],errors='coerce')\n",
    "df['Minimum_Conductivity']=pd.to_numeric(df['Maximum_Conductivity'],errors='coerce')\n",
    "df['Maximum_Conductivity']=pd.to_numeric(df['Maximum_Conductivity'],errors='coerce')\n",
    "df['Minimum_NitrateN_and_NitriteN']=pd.to_numeric(df['Minimum_NitrateN_and_NitriteN'],errors='coerce')\n",
    "df['Maximum_NitrateN_and_NitriteN']=pd.to_numeric(df['Maximum_NitrateN_and_NitriteN'],errors='coerce')\n",
    "df['Minimum_Fecal_Coliform']=pd.to_numeric(df['Minimum_Fecal_Coliform'],errors='coerce')\n",
    "df['Maximum_Fecal_Coliform']=pd.to_numeric(df['Maximum_Fecal_Coliform'],errors='coerce')\n",
    "df['Minimum_Total_Coliform']=pd.to_numeric(df['Minimum_Total_Coliform'],errors='coerce')\n",
    "df['Maximum_Total_Coliform']=pd.to_numeric(df['Maximum_Total_Coliform'],errors='coerce')\n",
    "df.dtypes"
   ]
  },
  {
   "cell_type": "code",
   "execution_count": 11,
   "id": "de07ddc9",
   "metadata": {},
   "outputs": [
    {
     "data": {
      "text/html": [
       "<div>\n",
       "<style scoped>\n",
       "    .dataframe tbody tr th:only-of-type {\n",
       "        vertical-align: middle;\n",
       "    }\n",
       "\n",
       "    .dataframe tbody tr th {\n",
       "        vertical-align: top;\n",
       "    }\n",
       "\n",
       "    .dataframe thead th {\n",
       "        text-align: right;\n",
       "    }\n",
       "</style>\n",
       "<table border=\"1\" class=\"dataframe\">\n",
       "  <thead>\n",
       "    <tr style=\"text-align: right;\">\n",
       "      <th></th>\n",
       "      <th>Missing Ratio</th>\n",
       "    </tr>\n",
       "  </thead>\n",
       "  <tbody>\n",
       "    <tr>\n",
       "      <th>Minimum_BOD</th>\n",
       "      <td>13.471503</td>\n",
       "    </tr>\n",
       "    <tr>\n",
       "      <th>Minimum_NitrateN_and_NitriteN</th>\n",
       "      <td>8.290155</td>\n",
       "    </tr>\n",
       "    <tr>\n",
       "      <th>Minimum_DissolvedO2</th>\n",
       "      <td>5.958549</td>\n",
       "    </tr>\n",
       "    <tr>\n",
       "      <th>Maximum_NitrateN_and_NitriteN</th>\n",
       "      <td>4.145078</td>\n",
       "    </tr>\n",
       "    <tr>\n",
       "      <th>Minimum_Fecal_Coliform</th>\n",
       "      <td>3.626943</td>\n",
       "    </tr>\n",
       "    <tr>\n",
       "      <th>Maximum_Total_Coliform</th>\n",
       "      <td>3.367876</td>\n",
       "    </tr>\n",
       "    <tr>\n",
       "      <th>Minimum_Total_Coliform</th>\n",
       "      <td>3.367876</td>\n",
       "    </tr>\n",
       "    <tr>\n",
       "      <th>Maximum_BOD</th>\n",
       "      <td>2.849741</td>\n",
       "    </tr>\n",
       "    <tr>\n",
       "      <th>Maximum_DissolvedO2</th>\n",
       "      <td>2.849741</td>\n",
       "    </tr>\n",
       "    <tr>\n",
       "      <th>Maximum_Fecal_Coliform</th>\n",
       "      <td>2.590674</td>\n",
       "    </tr>\n",
       "    <tr>\n",
       "      <th>Maximum_Temperature</th>\n",
       "      <td>1.813472</td>\n",
       "    </tr>\n",
       "    <tr>\n",
       "      <th>Minimum_Temperature</th>\n",
       "      <td>1.813472</td>\n",
       "    </tr>\n",
       "    <tr>\n",
       "      <th>Maximum_Conductivity</th>\n",
       "      <td>1.295337</td>\n",
       "    </tr>\n",
       "    <tr>\n",
       "      <th>Minimum_Conductivity</th>\n",
       "      <td>1.295337</td>\n",
       "    </tr>\n",
       "  </tbody>\n",
       "</table>\n",
       "</div>"
      ],
      "text/plain": [
       "                               Missing Ratio\n",
       "Minimum_BOD                        13.471503\n",
       "Minimum_NitrateN_and_NitriteN       8.290155\n",
       "Minimum_DissolvedO2                 5.958549\n",
       "Maximum_NitrateN_and_NitriteN       4.145078\n",
       "Minimum_Fecal_Coliform              3.626943\n",
       "Maximum_Total_Coliform              3.367876\n",
       "Minimum_Total_Coliform              3.367876\n",
       "Maximum_BOD                         2.849741\n",
       "Maximum_DissolvedO2                 2.849741\n",
       "Maximum_Fecal_Coliform              2.590674\n",
       "Maximum_Temperature                 1.813472\n",
       "Minimum_Temperature                 1.813472\n",
       "Maximum_Conductivity                1.295337\n",
       "Minimum_Conductivity                1.295337"
      ]
     },
     "execution_count": 11,
     "metadata": {},
     "output_type": "execute_result"
    }
   ],
   "source": [
    "#Now that we have our data in the correct format, let us check for the null values and fill them\n",
    "#appropriately.\n",
    "\n",
    "\n",
    "all_data_na = (df.isnull().sum() / len(df)) * 100\n",
    "all_data_na = all_data_na.drop(all_data_na[all_data_na == 0].index).sort_values(ascending=False)[:30]\n",
    "missing_data = pd.DataFrame({'Missing Ratio' :all_data_na})\n",
    "missing_data.head(20)"
   ]
  },
  {
   "cell_type": "markdown",
   "id": "efe472f7",
   "metadata": {},
   "source": [
    "#### Minimum and Maximum Biochemical Oxygen Demand"
   ]
  },
  {
   "cell_type": "code",
   "execution_count": 12,
   "id": "4c5d4707",
   "metadata": {},
   "outputs": [
    {
     "data": {
      "text/plain": [
       "count    334.000000\n",
       "mean       3.372455\n",
       "std       12.871610\n",
       "min        0.100000\n",
       "25%        0.600000\n",
       "50%        1.350000\n",
       "75%        2.600000\n",
       "max      206.000000\n",
       "Name: Minimum_BOD, dtype: float64"
      ]
     },
     "execution_count": 12,
     "metadata": {},
     "output_type": "execute_result"
    }
   ],
   "source": [
    "#Before filling these columns with appropriate data, we need to check for outliers in our dataset. A good way\n",
    "#to check for outliers is by using  boxplots\n",
    "\n",
    "df.Minimum_BOD.describe()"
   ]
  },
  {
   "cell_type": "code",
   "execution_count": 13,
   "id": "69806181",
   "metadata": {},
   "outputs": [
    {
     "name": "stderr",
     "output_type": "stream",
     "text": [
      "/home/jyotbuch/.local/lib/python3.8/site-packages/seaborn/_decorators.py:36: FutureWarning: Pass the following variable as a keyword arg: x. From version 0.12, the only valid positional argument will be `data`, and passing other arguments without an explicit keyword will result in an error or misinterpretation.\n",
      "  warnings.warn(\n"
     ]
    },
    {
     "data": {
      "text/plain": [
       "<AxesSubplot:xlabel='Minimum_BOD'>"
      ]
     },
     "execution_count": 13,
     "metadata": {},
     "output_type": "execute_result"
    },
    {
     "data": {
      "image/png": "[encoded data removed]",
      "text/plain": [
       "<Figure size 432x288 with 1 Axes>"
      ]
     },
     "metadata": {
      "needs_background": "light"
     },
     "output_type": "display_data"
    }
   ],
   "source": [
    "#As we can see, the maximum value of BOD is 206 which is an absolutely wrong value. To rectify this we will\n",
    "#drop all rows having a BOD above 10. A BOD above 10 shows polluted water.\n",
    "df = df[df['Minimum_BOD']<10]\n",
    "sns.boxplot(df['Minimum_BOD'])"
   ]
  },
  {
   "cell_type": "code",
   "execution_count": 14,
   "id": "64eeaa87",
   "metadata": {},
   "outputs": [],
   "source": [
    "df[\"Minimum_BOD\"] = df.groupby(\"State_Name\").transform(lambda x: x.fillna(x.mean()))"
   ]
  },
  {
   "cell_type": "code",
   "execution_count": 15,
   "id": "679a1d69",
   "metadata": {},
   "outputs": [
    {
     "data": {
      "text/plain": [
       "count    311.000000\n",
       "mean       6.853055\n",
       "std       18.212480\n",
       "min        0.100000\n",
       "25%        2.200000\n",
       "50%        2.800000\n",
       "75%        4.400000\n",
       "max      258.600000\n",
       "Name: Maximum_BOD, dtype: float64"
      ]
     },
     "execution_count": 15,
     "metadata": {},
     "output_type": "execute_result"
    }
   ],
   "source": [
    "df.Maximum_BOD.describe()"
   ]
  },
  {
   "cell_type": "code",
   "execution_count": 16,
   "id": "ca1d7ab2",
   "metadata": {},
   "outputs": [
    {
     "name": "stderr",
     "output_type": "stream",
     "text": [
      "/home/jyotbuch/.local/lib/python3.8/site-packages/seaborn/_decorators.py:36: FutureWarning: Pass the following variable as a keyword arg: x. From version 0.12, the only valid positional argument will be `data`, and passing other arguments without an explicit keyword will result in an error or misinterpretation.\n",
      "  warnings.warn(\n"
     ]
    },
    {
     "data": {
      "text/plain": [
       "<AxesSubplot:xlabel='Maximum_BOD'>"
      ]
     },
     "execution_count": 16,
     "metadata": {},
     "output_type": "execute_result"
    },
    {
     "data": {
      "image/png": "[encoded data removed]",
      "text/plain": [
       "<Figure size 432x288 with 1 Axes>"
      ]
     },
     "metadata": {
      "needs_background": "light"
     },
     "output_type": "display_data"
    }
   ],
   "source": [
    "#As we can see, the maximum value of BOD is 258 which is an absolutely wrong value. To rectify this we will\n",
    "#drop all rows having a BOD above 10. A BOD above 10 shows polluted water.\n",
    "df = df[df['Maximum_BOD']<10]\n",
    "sns.boxplot(df['Maximum_BOD'])"
   ]
  },
  {
   "cell_type": "code",
   "execution_count": 17,
   "id": "04691563",
   "metadata": {},
   "outputs": [],
   "source": [
    "df[\"Maximum_BOD\"] = df.groupby(\"State_Name\").transform(lambda x: x.fillna(x.mean()))"
   ]
  },
  {
   "cell_type": "markdown",
   "id": "ad8e20ef",
   "metadata": {},
   "source": [
    "#### Minimum and Maximum NITRATE N + NITRITE N (mg/l)"
   ]
  },
  {
   "cell_type": "code",
   "execution_count": 18,
   "id": "4c965a5f",
   "metadata": {},
   "outputs": [
    {
     "data": {
      "text/plain": [
       "count    262.000000\n",
       "mean       0.245802\n",
       "std        0.302702\n",
       "min        0.010000\n",
       "25%        0.030000\n",
       "50%        0.135000\n",
       "75%        0.337500\n",
       "max        2.300000\n",
       "Name: Minimum_NitrateN_and_NitriteN, dtype: float64"
      ]
     },
     "execution_count": 18,
     "metadata": {},
     "output_type": "execute_result"
    }
   ],
   "source": [
    "df.Minimum_NitrateN_and_NitriteN.describe()"
   ]
  },
  {
   "cell_type": "code",
   "execution_count": 19,
   "id": "7788c170",
   "metadata": {},
   "outputs": [],
   "source": [
    "df[\"Minimum_NitrateN_and_NitriteN\"] = df.groupby(\"State_Name\").transform(lambda x: x.fillna(x.mean()))"
   ]
  },
  {
   "cell_type": "code",
   "execution_count": 20,
   "id": "3c492bdd",
   "metadata": {},
   "outputs": [
    {
     "data": {
      "text/plain": [
       "count    264.000000\n",
       "mean       1.819848\n",
       "std        7.016461\n",
       "min        0.020000\n",
       "25%        0.337500\n",
       "50%        0.935000\n",
       "75%        1.800000\n",
       "max      111.280000\n",
       "Name: Maximum_NitrateN_and_NitriteN, dtype: float64"
      ]
     },
     "execution_count": 20,
     "metadata": {},
     "output_type": "execute_result"
    }
   ],
   "source": [
    "df.Maximum_NitrateN_and_NitriteN.describe()"
   ]
  },
  {
   "cell_type": "code",
   "execution_count": 21,
   "id": "2ed267a5",
   "metadata": {},
   "outputs": [
    {
     "name": "stderr",
     "output_type": "stream",
     "text": [
      "/home/jyotbuch/.local/lib/python3.8/site-packages/seaborn/_decorators.py:36: FutureWarning: Pass the following variable as a keyword arg: x. From version 0.12, the only valid positional argument will be `data`, and passing other arguments without an explicit keyword will result in an error or misinterpretation.\n",
      "  warnings.warn(\n"
     ]
    },
    {
     "data": {
      "text/plain": [
       "<AxesSubplot:xlabel='Maximum_NitrateN_and_NitriteN'>"
      ]
     },
     "execution_count": 21,
     "metadata": {},
     "output_type": "execute_result"
    },
    {
     "data": {
      "image/png": "[encoded data removed]",
      "text/plain": [
       "<Figure size 432x288 with 1 Axes>"
      ]
     },
     "metadata": {
      "needs_background": "light"
     },
     "output_type": "display_data"
    }
   ],
   "source": [
    "#As we can see, the maximum value of NITRATE N + NITRITE N  is 111 which is an absolutely wrong value. \n",
    "#To rectify this we will\n",
    "#drop all rows having a Maximum NITRATE N + NITRITE N  above 10 as that is the maximum consumable limit.\n",
    "df = df[df['Maximum_NitrateN_and_NitriteN']<10]\n",
    "sns.boxplot(df['Maximum_NitrateN_and_NitriteN'])"
   ]
  },
  {
   "cell_type": "markdown",
   "id": "d60286d0",
   "metadata": {},
   "source": [
    "#### Minimum and Maximum Dissolved O2"
   ]
  },
  {
   "cell_type": "code",
   "execution_count": 22,
   "id": "11ec1ddc",
   "metadata": {},
   "outputs": [
    {
     "data": {
      "text/plain": [
       "count    258.000000\n",
       "mean       5.445736\n",
       "std        1.397608\n",
       "min        0.800000\n",
       "25%        4.600000\n",
       "50%        5.800000\n",
       "75%        6.400000\n",
       "max       10.000000\n",
       "Name: Minimum_DissolvedO2, dtype: float64"
      ]
     },
     "execution_count": 22,
     "metadata": {},
     "output_type": "execute_result"
    }
   ],
   "source": [
    "df.Minimum_DissolvedO2.describe()"
   ]
  },
  {
   "cell_type": "code",
   "execution_count": 23,
   "id": "417c85d5",
   "metadata": {},
   "outputs": [],
   "source": [
    "#In case of "
   ]
  },
  {
   "cell_type": "code",
   "execution_count": 24,
   "id": "b236e365",
   "metadata": {},
   "outputs": [
    {
     "data": {
      "text/plain": [
       "count    258.000000\n",
       "mean       7.698450\n",
       "std        0.909225\n",
       "min        4.800000\n",
       "25%        7.200000\n",
       "50%        7.700000\n",
       "75%        8.100000\n",
       "max       10.500000\n",
       "Name: Maximum_DissolvedO2, dtype: float64"
      ]
     },
     "execution_count": 24,
     "metadata": {},
     "output_type": "execute_result"
    }
   ],
   "source": [
    "df.Maximum_DissolvedO2.describe()"
   ]
  },
  {
   "cell_type": "code",
   "execution_count": null,
   "id": "f4b61a7b",
   "metadata": {},
   "outputs": [],
   "source": [
    "#Since none of our missing values are more than 20%, we can fill all these values\n",
    "\n",
    "#BOD is a measure of the amount of oxygen required to remove waste organic matter\n",
    "#from water in the process of decomposition by aerobic bacteria. So we "
   ]
  }
 ],
 "metadata": {
  "kernelspec": {
   "display_name": "Python 3 (ipykernel)",
   "language": "python",
   "name": "python3"
  },
  "language_info": {
   "codemirror_mode": {
    "name": "ipython",
    "version": 3
   },
   "file_extension": ".py",
   "mimetype": "text/x-python",
   "name": "python",
   "nbconvert_exporter": "python",
   "pygments_lexer": "ipython3",
   "version": "3.8.10"
  }
 },
 "nbformat": 4,
 "nbformat_minor": 5
}
