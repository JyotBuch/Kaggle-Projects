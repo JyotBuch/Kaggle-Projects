{
 "cells": [
  {
   "cell_type": "markdown",
   "id": "6fd01827",
   "metadata": {},
   "source": [
    "# Heart Disease Prediction"
   ]
  },
  {
   "cell_type": "markdown",
   "id": "1f9bde93",
   "metadata": {},
   "source": [
    "In this project, we will train a Machine Learning task to perform the task of heart disease prediction \n",
    "using Machine Learning. We will test several different models and choose the optimum model for our\n",
    "predictive analysis."
   ]
  },
  {
   "cell_type": "code",
   "execution_count": 1,
   "id": "8d59990f",
   "metadata": {},
   "outputs": [],
   "source": [
    "#Let us start our project by importing some basic python libraries that are important to Data Processing\n",
    "#and basic data manipulation\n",
    "\n",
    "import pandas as pd #For dataframe operations\n",
    "import matplotlib.pyplot as plt #For graphical operations\n",
    "import seaborn as sns #For graphical operations\n",
    "import numpy as np #For mathematical operations"
   ]
  },
  {
   "cell_type": "code",
   "execution_count": 2,
   "id": "d3085e2b",
   "metadata": {},
   "outputs": [
    {
     "data": {
      "text/html": [
       "<div>\n",
       "<style scoped>\n",
       "    .dataframe tbody tr th:only-of-type {\n",
       "        vertical-align: middle;\n",
       "    }\n",
       "\n",
       "    .dataframe tbody tr th {\n",
       "        vertical-align: top;\n",
       "    }\n",
       "\n",
       "    .dataframe thead th {\n",
       "        text-align: right;\n",
       "    }\n",
       "</style>\n",
       "<table border=\"1\" class=\"dataframe\">\n",
       "  <thead>\n",
       "    <tr style=\"text-align: right;\">\n",
       "      <th></th>\n",
       "      <th>age</th>\n",
       "      <th>sex</th>\n",
       "      <th>cp</th>\n",
       "      <th>trestbps</th>\n",
       "      <th>chol</th>\n",
       "      <th>fbs</th>\n",
       "      <th>restecg</th>\n",
       "      <th>thalach</th>\n",
       "      <th>exang</th>\n",
       "      <th>oldpeak</th>\n",
       "      <th>slope</th>\n",
       "      <th>ca</th>\n",
       "      <th>thal</th>\n",
       "      <th>target</th>\n",
       "    </tr>\n",
       "  </thead>\n",
       "  <tbody>\n",
       "    <tr>\n",
       "      <th>0</th>\n",
       "      <td>63</td>\n",
       "      <td>1</td>\n",
       "      <td>3</td>\n",
       "      <td>145</td>\n",
       "      <td>233</td>\n",
       "      <td>1</td>\n",
       "      <td>0</td>\n",
       "      <td>150</td>\n",
       "      <td>0</td>\n",
       "      <td>2.3</td>\n",
       "      <td>0</td>\n",
       "      <td>0</td>\n",
       "      <td>1</td>\n",
       "      <td>1</td>\n",
       "    </tr>\n",
       "    <tr>\n",
       "      <th>1</th>\n",
       "      <td>37</td>\n",
       "      <td>1</td>\n",
       "      <td>2</td>\n",
       "      <td>130</td>\n",
       "      <td>250</td>\n",
       "      <td>0</td>\n",
       "      <td>1</td>\n",
       "      <td>187</td>\n",
       "      <td>0</td>\n",
       "      <td>3.5</td>\n",
       "      <td>0</td>\n",
       "      <td>0</td>\n",
       "      <td>2</td>\n",
       "      <td>1</td>\n",
       "    </tr>\n",
       "    <tr>\n",
       "      <th>2</th>\n",
       "      <td>41</td>\n",
       "      <td>0</td>\n",
       "      <td>1</td>\n",
       "      <td>130</td>\n",
       "      <td>204</td>\n",
       "      <td>0</td>\n",
       "      <td>0</td>\n",
       "      <td>172</td>\n",
       "      <td>0</td>\n",
       "      <td>1.4</td>\n",
       "      <td>2</td>\n",
       "      <td>0</td>\n",
       "      <td>2</td>\n",
       "      <td>1</td>\n",
       "    </tr>\n",
       "    <tr>\n",
       "      <th>3</th>\n",
       "      <td>56</td>\n",
       "      <td>1</td>\n",
       "      <td>1</td>\n",
       "      <td>120</td>\n",
       "      <td>236</td>\n",
       "      <td>0</td>\n",
       "      <td>1</td>\n",
       "      <td>178</td>\n",
       "      <td>0</td>\n",
       "      <td>0.8</td>\n",
       "      <td>2</td>\n",
       "      <td>0</td>\n",
       "      <td>2</td>\n",
       "      <td>1</td>\n",
       "    </tr>\n",
       "    <tr>\n",
       "      <th>4</th>\n",
       "      <td>57</td>\n",
       "      <td>0</td>\n",
       "      <td>0</td>\n",
       "      <td>120</td>\n",
       "      <td>354</td>\n",
       "      <td>0</td>\n",
       "      <td>1</td>\n",
       "      <td>163</td>\n",
       "      <td>1</td>\n",
       "      <td>0.6</td>\n",
       "      <td>2</td>\n",
       "      <td>0</td>\n",
       "      <td>2</td>\n",
       "      <td>1</td>\n",
       "    </tr>\n",
       "  </tbody>\n",
       "</table>\n",
       "</div>"
      ],
      "text/plain": [
       "   age  sex  cp  trestbps  chol  fbs  restecg  thalach  exang  oldpeak  slope  \\\n",
       "0   63    1   3       145   233    1        0      150      0      2.3      0   \n",
       "1   37    1   2       130   250    0        1      187      0      3.5      0   \n",
       "2   41    0   1       130   204    0        0      172      0      1.4      2   \n",
       "3   56    1   1       120   236    0        1      178      0      0.8      2   \n",
       "4   57    0   0       120   354    0        1      163      1      0.6      2   \n",
       "\n",
       "   ca  thal  target  \n",
       "0   0     1       1  \n",
       "1   0     2       1  \n",
       "2   0     2       1  \n",
       "3   0     2       1  \n",
       "4   0     2       1  "
      ]
     },
     "execution_count": 2,
     "metadata": {},
     "output_type": "execute_result"
    }
   ],
   "source": [
    "#After importing our neccessary libraries we will move on to importing our dataset and understand our data\n",
    "\n",
    "data = pd.read_csv(\"heart.csv\") #importing the dataset\n",
    "data.head() #printing the first 5 columns of our dataset"
   ]
  },
  {
   "cell_type": "code",
   "execution_count": 3,
   "id": "fed0b63c",
   "metadata": {},
   "outputs": [
    {
     "data": {
      "text/plain": [
       "(303, 14)"
      ]
     },
     "execution_count": 3,
     "metadata": {},
     "output_type": "execute_result"
    }
   ],
   "source": [
    "data.shape"
   ]
  },
  {
   "cell_type": "markdown",
   "id": "8d766f0c",
   "metadata": {},
   "source": [
    "### Attribute information\n",
    "Let us have a look at the above data and understand what it all means because the most important part of \n",
    "Machine Learning is to understand the data and what every attribute signifies. A healthy practice of analyzing\n",
    "and researching about the data is an important key to train better models\n",
    "\n",
    "Age : Our first attribute age shows the different ages of patients that had taken part in the data collection survey.\n",
    "\n",
    "Sex : Male and Female(1: male, 0: female)\n",
    "\n",
    "cp : Chest Pain Type(0: typical angina, 1: atypical angina, 2: non-anginal pain, 3: asymptomatic)\n",
    "\n",
    "trestbps : Resting blood pressure(in mm Hg on admission to the hospital)\n",
    "\n",
    "chol : serum cholestoral in mg/dl\n",
    "\n",
    "fbs : fasting blood sugar &gt; 120 mg/dl (1 = true; 0 = false)\n",
    "\n",
    "restecg :  resting electrocardiographic results\n",
    "\n",
    "thalach : maximum heart rate achieved\n",
    "\n",
    "exang : exercise induced angina (1=yes, 0=no)\n",
    "\n",
    "olddpeak : ST depression induced by exercise relative to rest\n",
    "\n",
    "slope : the slope of the peak exercise ST segment\n",
    "\n",
    "ca : number of major vessels (0-3) colored by flourosopy\n",
    "\n",
    "thal : 1 = normal; 2 = fixed defect; 3 = reversable defect\n",
    "\n",
    "target : 1 or 0"
   ]
  },
  {
   "cell_type": "markdown",
   "id": "1b1b9ba6",
   "metadata": {},
   "source": [
    "### Let us perform some EDA on this dataset to get some more insights"
   ]
  },
  {
   "cell_type": "code",
   "execution_count": 4,
   "id": "0e3a5f68",
   "metadata": {},
   "outputs": [
    {
     "data": {
      "text/plain": [
       "age         0\n",
       "sex         0\n",
       "cp          0\n",
       "trestbps    0\n",
       "chol        0\n",
       "fbs         0\n",
       "restecg     0\n",
       "thalach     0\n",
       "exang       0\n",
       "oldpeak     0\n",
       "slope       0\n",
       "ca          0\n",
       "thal        0\n",
       "target      0\n",
       "dtype: int64"
      ]
     },
     "execution_count": 4,
     "metadata": {},
     "output_type": "execute_result"
    }
   ],
   "source": [
    "#Let us check our data for any null values\n",
    "\n",
    "data.isna().sum()"
   ]
  },
  {
   "cell_type": "code",
   "execution_count": 5,
   "id": "dfe59af4",
   "metadata": {},
   "outputs": [
    {
     "data": {
      "text/html": [
       "<div>\n",
       "<style scoped>\n",
       "    .dataframe tbody tr th:only-of-type {\n",
       "        vertical-align: middle;\n",
       "    }\n",
       "\n",
       "    .dataframe tbody tr th {\n",
       "        vertical-align: top;\n",
       "    }\n",
       "\n",
       "    .dataframe thead th {\n",
       "        text-align: right;\n",
       "    }\n",
       "</style>\n",
       "<table border=\"1\" class=\"dataframe\">\n",
       "  <thead>\n",
       "    <tr style=\"text-align: right;\">\n",
       "      <th></th>\n",
       "      <th>age</th>\n",
       "      <th>sex</th>\n",
       "      <th>cp</th>\n",
       "      <th>trestbps</th>\n",
       "      <th>chol</th>\n",
       "      <th>fbs</th>\n",
       "      <th>restecg</th>\n",
       "      <th>thalach</th>\n",
       "      <th>exang</th>\n",
       "      <th>oldpeak</th>\n",
       "      <th>slope</th>\n",
       "      <th>ca</th>\n",
       "      <th>thal</th>\n",
       "      <th>target</th>\n",
       "    </tr>\n",
       "  </thead>\n",
       "  <tbody>\n",
       "    <tr>\n",
       "      <th>count</th>\n",
       "      <td>303.00</td>\n",
       "      <td>303.00</td>\n",
       "      <td>303.00</td>\n",
       "      <td>303.00</td>\n",
       "      <td>303.00</td>\n",
       "      <td>303.00</td>\n",
       "      <td>303.00</td>\n",
       "      <td>303.00</td>\n",
       "      <td>303.00</td>\n",
       "      <td>303.00</td>\n",
       "      <td>303.00</td>\n",
       "      <td>303.00</td>\n",
       "      <td>303.00</td>\n",
       "      <td>303.00</td>\n",
       "    </tr>\n",
       "    <tr>\n",
       "      <th>mean</th>\n",
       "      <td>54.37</td>\n",
       "      <td>0.68</td>\n",
       "      <td>0.97</td>\n",
       "      <td>131.62</td>\n",
       "      <td>246.26</td>\n",
       "      <td>0.15</td>\n",
       "      <td>0.53</td>\n",
       "      <td>149.65</td>\n",
       "      <td>0.33</td>\n",
       "      <td>1.04</td>\n",
       "      <td>1.40</td>\n",
       "      <td>0.73</td>\n",
       "      <td>2.31</td>\n",
       "      <td>0.54</td>\n",
       "    </tr>\n",
       "    <tr>\n",
       "      <th>std</th>\n",
       "      <td>9.08</td>\n",
       "      <td>0.47</td>\n",
       "      <td>1.03</td>\n",
       "      <td>17.54</td>\n",
       "      <td>51.83</td>\n",
       "      <td>0.36</td>\n",
       "      <td>0.53</td>\n",
       "      <td>22.91</td>\n",
       "      <td>0.47</td>\n",
       "      <td>1.16</td>\n",
       "      <td>0.62</td>\n",
       "      <td>1.02</td>\n",
       "      <td>0.61</td>\n",
       "      <td>0.50</td>\n",
       "    </tr>\n",
       "    <tr>\n",
       "      <th>min</th>\n",
       "      <td>29.00</td>\n",
       "      <td>0.00</td>\n",
       "      <td>0.00</td>\n",
       "      <td>94.00</td>\n",
       "      <td>126.00</td>\n",
       "      <td>0.00</td>\n",
       "      <td>0.00</td>\n",
       "      <td>71.00</td>\n",
       "      <td>0.00</td>\n",
       "      <td>0.00</td>\n",
       "      <td>0.00</td>\n",
       "      <td>0.00</td>\n",
       "      <td>0.00</td>\n",
       "      <td>0.00</td>\n",
       "    </tr>\n",
       "    <tr>\n",
       "      <th>25%</th>\n",
       "      <td>47.50</td>\n",
       "      <td>0.00</td>\n",
       "      <td>0.00</td>\n",
       "      <td>120.00</td>\n",
       "      <td>211.00</td>\n",
       "      <td>0.00</td>\n",
       "      <td>0.00</td>\n",
       "      <td>133.50</td>\n",
       "      <td>0.00</td>\n",
       "      <td>0.00</td>\n",
       "      <td>1.00</td>\n",
       "      <td>0.00</td>\n",
       "      <td>2.00</td>\n",
       "      <td>0.00</td>\n",
       "    </tr>\n",
       "    <tr>\n",
       "      <th>50%</th>\n",
       "      <td>55.00</td>\n",
       "      <td>1.00</td>\n",
       "      <td>1.00</td>\n",
       "      <td>130.00</td>\n",
       "      <td>240.00</td>\n",
       "      <td>0.00</td>\n",
       "      <td>1.00</td>\n",
       "      <td>153.00</td>\n",
       "      <td>0.00</td>\n",
       "      <td>0.80</td>\n",
       "      <td>1.00</td>\n",
       "      <td>0.00</td>\n",
       "      <td>2.00</td>\n",
       "      <td>1.00</td>\n",
       "    </tr>\n",
       "    <tr>\n",
       "      <th>75%</th>\n",
       "      <td>61.00</td>\n",
       "      <td>1.00</td>\n",
       "      <td>2.00</td>\n",
       "      <td>140.00</td>\n",
       "      <td>274.50</td>\n",
       "      <td>0.00</td>\n",
       "      <td>1.00</td>\n",
       "      <td>166.00</td>\n",
       "      <td>1.00</td>\n",
       "      <td>1.60</td>\n",
       "      <td>2.00</td>\n",
       "      <td>1.00</td>\n",
       "      <td>3.00</td>\n",
       "      <td>1.00</td>\n",
       "    </tr>\n",
       "    <tr>\n",
       "      <th>max</th>\n",
       "      <td>77.00</td>\n",
       "      <td>1.00</td>\n",
       "      <td>3.00</td>\n",
       "      <td>200.00</td>\n",
       "      <td>564.00</td>\n",
       "      <td>1.00</td>\n",
       "      <td>2.00</td>\n",
       "      <td>202.00</td>\n",
       "      <td>1.00</td>\n",
       "      <td>6.20</td>\n",
       "      <td>2.00</td>\n",
       "      <td>4.00</td>\n",
       "      <td>3.00</td>\n",
       "      <td>1.00</td>\n",
       "    </tr>\n",
       "  </tbody>\n",
       "</table>\n",
       "</div>"
      ],
      "text/plain": [
       "         age    sex     cp  trestbps   chol    fbs  restecg  thalach  exang  \\\n",
       "count 303.00 303.00 303.00    303.00 303.00 303.00   303.00   303.00 303.00   \n",
       "mean   54.37   0.68   0.97    131.62 246.26   0.15     0.53   149.65   0.33   \n",
       "std     9.08   0.47   1.03     17.54  51.83   0.36     0.53    22.91   0.47   \n",
       "min    29.00   0.00   0.00     94.00 126.00   0.00     0.00    71.00   0.00   \n",
       "25%    47.50   0.00   0.00    120.00 211.00   0.00     0.00   133.50   0.00   \n",
       "50%    55.00   1.00   1.00    130.00 240.00   0.00     1.00   153.00   0.00   \n",
       "75%    61.00   1.00   2.00    140.00 274.50   0.00     1.00   166.00   1.00   \n",
       "max    77.00   1.00   3.00    200.00 564.00   1.00     2.00   202.00   1.00   \n",
       "\n",
       "       oldpeak  slope     ca   thal  target  \n",
       "count   303.00 303.00 303.00 303.00  303.00  \n",
       "mean      1.04   1.40   0.73   2.31    0.54  \n",
       "std       1.16   0.62   1.02   0.61    0.50  \n",
       "min       0.00   0.00   0.00   0.00    0.00  \n",
       "25%       0.00   1.00   0.00   2.00    0.00  \n",
       "50%       0.80   1.00   0.00   2.00    1.00  \n",
       "75%       1.60   2.00   1.00   3.00    1.00  \n",
       "max       6.20   2.00   4.00   3.00    1.00  "
      ]
     },
     "execution_count": 5,
     "metadata": {},
     "output_type": "execute_result"
    }
   ],
   "source": [
    "#Our data is free from null values, let us check the summary of the dataset using the describe\n",
    "#feature\n",
    "\n",
    "\n",
    "pd.set_option(\"display.float\", \"{:.2f}\".format)\n",
    "data.describe()"
   ]
  },
  {
   "cell_type": "code",
   "execution_count": 6,
   "id": "b0eeed19",
   "metadata": {},
   "outputs": [
    {
     "data": {
      "text/plain": [
       "Text(0.5, 1.0, 'Target Ratio')"
      ]
     },
     "execution_count": 6,
     "metadata": {},
     "output_type": "execute_result"
    },
    {
     "data": {
      "image/png": "[encoded data removed]",
      "text/plain": [
       "<Figure size 936x432 with 1 Axes>"
      ]
     },
     "metadata": {},
     "output_type": "display_data"
    }
   ],
   "source": [
    "#Let us check if our data is evenly divided.\n",
    "\n",
    "plt.figure(figsize=(13,6))\n",
    "data.target.value_counts().plot.pie(autopct=\"%.1f%%\")\n",
    "plt.title(\"Target Ratio\", fontsize = 20)\n",
    "#plt.legend(['Benign','Malignant'])"
   ]
  },
  {
   "cell_type": "code",
   "execution_count": 7,
   "id": "83d7e06c",
   "metadata": {},
   "outputs": [
    {
     "name": "stderr",
     "output_type": "stream",
     "text": [
      "/home/jyotbuch/.local/lib/python3.8/site-packages/seaborn/_decorators.py:36: FutureWarning: Pass the following variable as a keyword arg: x. From version 0.12, the only valid positional argument will be `data`, and passing other arguments without an explicit keyword will result in an error or misinterpretation.\n",
      "  warnings.warn(\n"
     ]
    },
    {
     "data": {
      "text/plain": [
       "<matplotlib.legend.Legend at 0x7f39daa9afa0>"
      ]
     },
     "execution_count": 7,
     "metadata": {},
     "output_type": "execute_result"
    },
    {
     "data": {
      "image/png": "[encoded data removed]",
      "text/plain": [
       "<Figure size 936x432 with 1 Axes>"
      ]
     },
     "metadata": {
      "needs_background": "light"
     },
     "output_type": "display_data"
    }
   ],
   "source": [
    "#Plot for the different chest pain types \n",
    "\n",
    "plt.figure(figsize=(13,6))\n",
    "sns.countplot(data['cp'], hue=data['target'])\n",
    "plt.legend(['Heart Disease = NO', 'Heart Disease = Yes'])"
   ]
  },
  {
   "cell_type": "code",
   "execution_count": 8,
   "id": "90a1e7b1",
   "metadata": {},
   "outputs": [
    {
     "data": {
      "image/png": "[encoded data removed]",
      "text/plain": [
       "<Figure size 1080x1080 with 5 Axes>"
      ]
     },
     "metadata": {
      "needs_background": "light"
     },
     "output_type": "display_data"
    }
   ],
   "source": [
    "#We can observe that most people with type 2, i.e non-anginal pain have a heart disease\n",
    "\n",
    "categorical_val = []\n",
    "continous_val = []\n",
    "for column in data.columns:\n",
    "    if len(data[column].unique()) <= 10:\n",
    "        categorical_val.append(column)\n",
    "    else:\n",
    "        continous_val.append(column)\n",
    "\n",
    "plt.figure(figsize=(15, 15))\n",
    "\n",
    "for i, column in enumerate(continous_val, 1):\n",
    "    plt.subplot(3, 2, i)\n",
    "    data[data[\"target\"] == 0][column].hist(bins=35, color='green', label='Have Heart Disease = NO', alpha=0.6)\n",
    "    data[data[\"target\"] == 1][column].hist(bins=35, color='red', label='Have Heart Disease = YES', alpha=0.6)\n",
    "    plt.legend()\n",
    "    plt.xlabel(column)"
   ]
  },
  {
   "cell_type": "code",
   "execution_count": 9,
   "id": "108b99d6",
   "metadata": {},
   "outputs": [
    {
     "data": {
      "text/plain": [
       "<AxesSubplot:>"
      ]
     },
     "execution_count": 9,
     "metadata": {},
     "output_type": "execute_result"
    },
    {
     "data": {
      "image/png": "[encoded data removed]",
      "text/plain": [
       "<Figure size 1080x504 with 2 Axes>"
      ]
     },
     "metadata": {
      "needs_background": "light"
     },
     "output_type": "display_data"
    }
   ],
   "source": [
    "#From the above plots we can see deduce the following points\n",
    "\n",
    "#A resting blood pressure avove 130 could be concerning\n",
    "#Cholestrol level greater than 200 could be dangerous\n",
    "#People having a heartrate above 140 could be concerning\n",
    "#the old peak of exercise-induced ST depression vs. rest looks at heart stress\n",
    "#during exercise an unhealthy heart will stress more.\n",
    "\n",
    "#To get a better knowledge of how are attributes are correlated with eachother, \n",
    "#we will make use of the heatmap of  the seaborn module where we will be able to see our \n",
    "#correalted features\n",
    "\n",
    "plt.figure(figsize=(15,7))\n",
    "sns.heatmap(data.corr(), annot=True, cmap='coolwarm')"
   ]
  },
  {
   "cell_type": "markdown",
   "id": "80bba97e",
   "metadata": {},
   "source": [
    "Except for fasting blood sugar and cholestrol level, all other faetures have significant correlation\n",
    "the target variable\n",
    "\n",
    "With this we will now move on to preprocess our data and prepare it for modelling"
   ]
  },
  {
   "cell_type": "markdown",
   "id": "35c0dc74",
   "metadata": {},
   "source": [
    "### Data Preprocessing"
   ]
  },
  {
   "cell_type": "code",
   "execution_count": 10,
   "id": "b45ab17b",
   "metadata": {},
   "outputs": [],
   "source": [
    "#As we saw above, our dataset has many categorical columns. We should convert this categorical variables \n",
    "#to dummy variables and scale all our values before creating the model\n",
    "\n",
    "categorical_val.remove('target')\n",
    "dataset = pd.get_dummies(data, columns = categorical_val)\n",
    "\n",
    "from sklearn.preprocessing import StandardScaler\n",
    "why\n",
    "sc = StandardScaler()\n",
    "col_to_scale = ['age', 'trestbps', 'chol', 'thalach', 'oldpeak']\n",
    "data[col_to_scale] = sc.fit_transform(data[col_to_scale])"
   ]
  },
  {
   "cell_type": "code",
   "execution_count": 11,
   "id": "3b0c074c",
   "metadata": {},
   "outputs": [],
   "source": [
    "data.to_csv(\"preprocessed_data.csv\")"
   ]
  },
  {
   "cell_type": "markdown",
   "id": "4eb98add",
   "metadata": {},
   "source": [
    "### Model Selection"
   ]
  },
  {
   "cell_type": "code",
   "execution_count": 12,
   "id": "240ffb71",
   "metadata": {},
   "outputs": [],
   "source": [
    "#Let us split our data into training and testing sets\n",
    "\n",
    "from sklearn.model_selection import train_test_split\n",
    "\n",
    "X = data.drop('target', axis=1)\n",
    "y = data.target\n",
    "\n",
    "X_train, X_test, y_train, y_test = train_test_split(X, y, test_size=0.3, random_state=42)"
   ]
  },
  {
   "cell_type": "code",
   "execution_count": 13,
   "id": "4361b592",
   "metadata": {},
   "outputs": [
    {
     "name": "stderr",
     "output_type": "stream",
     "text": [
      "/home/jyotbuch/.local/lib/python3.8/site-packages/sklearn/utils/deprecation.py:143: FutureWarning: The sklearn.utils.testing module is  deprecated in version 0.22 and will be removed in version 0.24. The corresponding classes / functions should instead be imported from sklearn.utils. Anything that cannot be imported from sklearn.utils is now part of the private API.\n",
      "  warnings.warn(message, FutureWarning)\n",
      "100%|███████████████████████████████████████████| 29/29 [00:00<00:00, 35.07it/s]\n"
     ]
    },
    {
     "data": {
      "text/html": [
       "<div>\n",
       "<style scoped>\n",
       "    .dataframe tbody tr th:only-of-type {\n",
       "        vertical-align: middle;\n",
       "    }\n",
       "\n",
       "    .dataframe tbody tr th {\n",
       "        vertical-align: top;\n",
       "    }\n",
       "\n",
       "    .dataframe thead th {\n",
       "        text-align: right;\n",
       "    }\n",
       "</style>\n",
       "<table border=\"1\" class=\"dataframe\">\n",
       "  <thead>\n",
       "    <tr style=\"text-align: right;\">\n",
       "      <th></th>\n",
       "      <th>Accuracy</th>\n",
       "      <th>Balanced Accuracy</th>\n",
       "      <th>ROC AUC</th>\n",
       "      <th>F1 Score</th>\n",
       "      <th>Time Taken</th>\n",
       "    </tr>\n",
       "    <tr>\n",
       "      <th>Model</th>\n",
       "      <th></th>\n",
       "      <th></th>\n",
       "      <th></th>\n",
       "      <th></th>\n",
       "      <th></th>\n",
       "    </tr>\n",
       "  </thead>\n",
       "  <tbody>\n",
       "    <tr>\n",
       "      <th>KNeighborsClassifier</th>\n",
       "      <td>0.87</td>\n",
       "      <td>0.87</td>\n",
       "      <td>0.87</td>\n",
       "      <td>0.87</td>\n",
       "      <td>0.01</td>\n",
       "    </tr>\n",
       "    <tr>\n",
       "      <th>LGBMClassifier</th>\n",
       "      <td>0.85</td>\n",
       "      <td>0.85</td>\n",
       "      <td>0.85</td>\n",
       "      <td>0.85</td>\n",
       "      <td>0.03</td>\n",
       "    </tr>\n",
       "    <tr>\n",
       "      <th>BernoulliNB</th>\n",
       "      <td>0.85</td>\n",
       "      <td>0.84</td>\n",
       "      <td>0.84</td>\n",
       "      <td>0.85</td>\n",
       "      <td>0.01</td>\n",
       "    </tr>\n",
       "    <tr>\n",
       "      <th>GaussianNB</th>\n",
       "      <td>0.84</td>\n",
       "      <td>0.84</td>\n",
       "      <td>0.84</td>\n",
       "      <td>0.84</td>\n",
       "      <td>0.01</td>\n",
       "    </tr>\n",
       "    <tr>\n",
       "      <th>NuSVC</th>\n",
       "      <td>0.84</td>\n",
       "      <td>0.83</td>\n",
       "      <td>0.83</td>\n",
       "      <td>0.84</td>\n",
       "      <td>0.03</td>\n",
       "    </tr>\n",
       "    <tr>\n",
       "      <th>RandomForestClassifier</th>\n",
       "      <td>0.84</td>\n",
       "      <td>0.83</td>\n",
       "      <td>0.83</td>\n",
       "      <td>0.83</td>\n",
       "      <td>0.18</td>\n",
       "    </tr>\n",
       "    <tr>\n",
       "      <th>NearestCentroid</th>\n",
       "      <td>0.84</td>\n",
       "      <td>0.83</td>\n",
       "      <td>0.83</td>\n",
       "      <td>0.83</td>\n",
       "      <td>0.02</td>\n",
       "    </tr>\n",
       "    <tr>\n",
       "      <th>Perceptron</th>\n",
       "      <td>0.82</td>\n",
       "      <td>0.82</td>\n",
       "      <td>0.82</td>\n",
       "      <td>0.82</td>\n",
       "      <td>0.01</td>\n",
       "    </tr>\n",
       "    <tr>\n",
       "      <th>SVC</th>\n",
       "      <td>0.82</td>\n",
       "      <td>0.82</td>\n",
       "      <td>0.82</td>\n",
       "      <td>0.82</td>\n",
       "      <td>0.01</td>\n",
       "    </tr>\n",
       "    <tr>\n",
       "      <th>LogisticRegression</th>\n",
       "      <td>0.81</td>\n",
       "      <td>0.81</td>\n",
       "      <td>0.81</td>\n",
       "      <td>0.81</td>\n",
       "      <td>0.03</td>\n",
       "    </tr>\n",
       "    <tr>\n",
       "      <th>RidgeClassifierCV</th>\n",
       "      <td>0.81</td>\n",
       "      <td>0.81</td>\n",
       "      <td>0.81</td>\n",
       "      <td>0.81</td>\n",
       "      <td>0.01</td>\n",
       "    </tr>\n",
       "    <tr>\n",
       "      <th>AdaBoostClassifier</th>\n",
       "      <td>0.80</td>\n",
       "      <td>0.81</td>\n",
       "      <td>0.81</td>\n",
       "      <td>0.80</td>\n",
       "      <td>0.09</td>\n",
       "    </tr>\n",
       "    <tr>\n",
       "      <th>XGBClassifier</th>\n",
       "      <td>0.80</td>\n",
       "      <td>0.80</td>\n",
       "      <td>0.80</td>\n",
       "      <td>0.80</td>\n",
       "      <td>0.03</td>\n",
       "    </tr>\n",
       "    <tr>\n",
       "      <th>LinearDiscriminantAnalysis</th>\n",
       "      <td>0.80</td>\n",
       "      <td>0.80</td>\n",
       "      <td>0.80</td>\n",
       "      <td>0.80</td>\n",
       "      <td>0.02</td>\n",
       "    </tr>\n",
       "    <tr>\n",
       "      <th>ExtraTreesClassifier</th>\n",
       "      <td>0.80</td>\n",
       "      <td>0.80</td>\n",
       "      <td>0.80</td>\n",
       "      <td>0.80</td>\n",
       "      <td>0.10</td>\n",
       "    </tr>\n",
       "    <tr>\n",
       "      <th>RidgeClassifier</th>\n",
       "      <td>0.80</td>\n",
       "      <td>0.80</td>\n",
       "      <td>0.80</td>\n",
       "      <td>0.80</td>\n",
       "      <td>0.01</td>\n",
       "    </tr>\n",
       "    <tr>\n",
       "      <th>CalibratedClassifierCV</th>\n",
       "      <td>0.80</td>\n",
       "      <td>0.80</td>\n",
       "      <td>0.80</td>\n",
       "      <td>0.80</td>\n",
       "      <td>0.04</td>\n",
       "    </tr>\n",
       "    <tr>\n",
       "      <th>LinearSVC</th>\n",
       "      <td>0.80</td>\n",
       "      <td>0.80</td>\n",
       "      <td>0.80</td>\n",
       "      <td>0.80</td>\n",
       "      <td>0.03</td>\n",
       "    </tr>\n",
       "    <tr>\n",
       "      <th>QuadraticDiscriminantAnalysis</th>\n",
       "      <td>0.79</td>\n",
       "      <td>0.80</td>\n",
       "      <td>0.80</td>\n",
       "      <td>0.79</td>\n",
       "      <td>0.01</td>\n",
       "    </tr>\n",
       "    <tr>\n",
       "      <th>PassiveAggressiveClassifier</th>\n",
       "      <td>0.78</td>\n",
       "      <td>0.78</td>\n",
       "      <td>0.78</td>\n",
       "      <td>0.78</td>\n",
       "      <td>0.02</td>\n",
       "    </tr>\n",
       "    <tr>\n",
       "      <th>LabelSpreading</th>\n",
       "      <td>0.78</td>\n",
       "      <td>0.78</td>\n",
       "      <td>0.78</td>\n",
       "      <td>0.78</td>\n",
       "      <td>0.02</td>\n",
       "    </tr>\n",
       "    <tr>\n",
       "      <th>LabelPropagation</th>\n",
       "      <td>0.78</td>\n",
       "      <td>0.78</td>\n",
       "      <td>0.78</td>\n",
       "      <td>0.78</td>\n",
       "      <td>0.02</td>\n",
       "    </tr>\n",
       "    <tr>\n",
       "      <th>ExtraTreeClassifier</th>\n",
       "      <td>0.76</td>\n",
       "      <td>0.76</td>\n",
       "      <td>0.76</td>\n",
       "      <td>0.76</td>\n",
       "      <td>0.01</td>\n",
       "    </tr>\n",
       "    <tr>\n",
       "      <th>DecisionTreeClassifier</th>\n",
       "      <td>0.74</td>\n",
       "      <td>0.74</td>\n",
       "      <td>0.74</td>\n",
       "      <td>0.74</td>\n",
       "      <td>0.01</td>\n",
       "    </tr>\n",
       "    <tr>\n",
       "      <th>BaggingClassifier</th>\n",
       "      <td>0.73</td>\n",
       "      <td>0.73</td>\n",
       "      <td>0.73</td>\n",
       "      <td>0.73</td>\n",
       "      <td>0.03</td>\n",
       "    </tr>\n",
       "    <tr>\n",
       "      <th>SGDClassifier</th>\n",
       "      <td>0.73</td>\n",
       "      <td>0.72</td>\n",
       "      <td>0.72</td>\n",
       "      <td>0.73</td>\n",
       "      <td>0.01</td>\n",
       "    </tr>\n",
       "    <tr>\n",
       "      <th>DummyClassifier</th>\n",
       "      <td>0.56</td>\n",
       "      <td>0.55</td>\n",
       "      <td>0.55</td>\n",
       "      <td>0.56</td>\n",
       "      <td>0.01</td>\n",
       "    </tr>\n",
       "  </tbody>\n",
       "</table>\n",
       "</div>"
      ],
      "text/plain": [
       "                               Accuracy  Balanced Accuracy  ROC AUC  F1 Score  \\\n",
       "Model                                                                           \n",
       "KNeighborsClassifier               0.87               0.87     0.87      0.87   \n",
       "LGBMClassifier                     0.85               0.85     0.85      0.85   \n",
       "BernoulliNB                        0.85               0.84     0.84      0.85   \n",
       "GaussianNB                         0.84               0.84     0.84      0.84   \n",
       "NuSVC                              0.84               0.83     0.83      0.84   \n",
       "RandomForestClassifier             0.84               0.83     0.83      0.83   \n",
       "NearestCentroid                    0.84               0.83     0.83      0.83   \n",
       "Perceptron                         0.82               0.82     0.82      0.82   \n",
       "SVC                                0.82               0.82     0.82      0.82   \n",
       "LogisticRegression                 0.81               0.81     0.81      0.81   \n",
       "RidgeClassifierCV                  0.81               0.81     0.81      0.81   \n",
       "AdaBoostClassifier                 0.80               0.81     0.81      0.80   \n",
       "XGBClassifier                      0.80               0.80     0.80      0.80   \n",
       "LinearDiscriminantAnalysis         0.80               0.80     0.80      0.80   \n",
       "ExtraTreesClassifier               0.80               0.80     0.80      0.80   \n",
       "RidgeClassifier                    0.80               0.80     0.80      0.80   \n",
       "CalibratedClassifierCV             0.80               0.80     0.80      0.80   \n",
       "LinearSVC                          0.80               0.80     0.80      0.80   \n",
       "QuadraticDiscriminantAnalysis      0.79               0.80     0.80      0.79   \n",
       "PassiveAggressiveClassifier        0.78               0.78     0.78      0.78   \n",
       "LabelSpreading                     0.78               0.78     0.78      0.78   \n",
       "LabelPropagation                   0.78               0.78     0.78      0.78   \n",
       "ExtraTreeClassifier                0.76               0.76     0.76      0.76   \n",
       "DecisionTreeClassifier             0.74               0.74     0.74      0.74   \n",
       "BaggingClassifier                  0.73               0.73     0.73      0.73   \n",
       "SGDClassifier                      0.73               0.72     0.72      0.73   \n",
       "DummyClassifier                    0.56               0.55     0.55      0.56   \n",
       "\n",
       "                               Time Taken  \n",
       "Model                                      \n",
       "KNeighborsClassifier                 0.01  \n",
       "LGBMClassifier                       0.03  \n",
       "BernoulliNB                          0.01  \n",
       "GaussianNB                           0.01  \n",
       "NuSVC                                0.03  \n",
       "RandomForestClassifier               0.18  \n",
       "NearestCentroid                      0.02  \n",
       "Perceptron                           0.01  \n",
       "SVC                                  0.01  \n",
       "LogisticRegression                   0.03  \n",
       "RidgeClassifierCV                    0.01  \n",
       "AdaBoostClassifier                   0.09  \n",
       "XGBClassifier                        0.03  \n",
       "LinearDiscriminantAnalysis           0.02  \n",
       "ExtraTreesClassifier                 0.10  \n",
       "RidgeClassifier                      0.01  \n",
       "CalibratedClassifierCV               0.04  \n",
       "LinearSVC                            0.03  \n",
       "QuadraticDiscriminantAnalysis        0.01  \n",
       "PassiveAggressiveClassifier          0.02  \n",
       "LabelSpreading                       0.02  \n",
       "LabelPropagation                     0.02  \n",
       "ExtraTreeClassifier                  0.01  \n",
       "DecisionTreeClassifier               0.01  \n",
       "BaggingClassifier                    0.03  \n",
       "SGDClassifier                        0.01  \n",
       "DummyClassifier                      0.01  "
      ]
     },
     "execution_count": 13,
     "metadata": {},
     "output_type": "execute_result"
    }
   ],
   "source": [
    "#For selecting our model, we will use the model Lazypredict as it tests our processed data on \n",
    "#various models and resturn the results accordinglyfrom where we can then choose the best model\n",
    "#as per our preference\n",
    "\n",
    "import lazypredict\n",
    "from lazypredict.Supervised import LazyClassifier\n",
    "\n",
    "clf = LazyClassifier(verbose=0,ignore_warnings=True)\n",
    "models, predictions = clf.fit(X_train, X_test, y_train, y_test)\n",
    "models"
   ]
  },
  {
   "cell_type": "code",
   "execution_count": 15,
   "id": "6d73ba85",
   "metadata": {},
   "outputs": [
    {
     "name": "stdout",
     "output_type": "stream",
     "text": [
      "KNeighborsClassifier accuracy: 0.8462\n"
     ]
    }
   ],
   "source": [
    "#From the above table, we can see that KNN Classifier has the highest balanced accuracy out of all models\n",
    "\n",
    "#Let us analyse this model futher\n",
    "\n",
    "from sklearn.neighbors import KNeighborsClassifier\n",
    "from sklearn.metrics import classification_report , confusion_matrix , accuracy_score\n",
    "\n",
    "model_knnclassfier = KNeighborsClassifier()\n",
    "model_knnclassfier.fit(X_train, y_train)\n",
    "print('KNeighborsClassifier accuracy: {:.4f}'.format(accuracy_score(y_test, model_knnclassfier.predict(X_test))))"
   ]
  },
  {
   "cell_type": "code",
   "execution_count": 17,
   "id": "491f6424",
   "metadata": {},
   "outputs": [
    {
     "data": {
      "text/plain": [
       "Text(0.5, 1.0, 'Confusion Matrix')"
      ]
     },
     "execution_count": 17,
     "metadata": {},
     "output_type": "execute_result"
    },
    {
     "data": {
      "image/png": "[encoded data removed]",
      "text/plain": [
       "<Figure size 216x216 with 1 Axes>"
      ]
     },
     "metadata": {
      "needs_background": "light"
     },
     "output_type": "display_data"
    }
   ],
   "source": [
    "#A confusion matrix gives us an idea of the true positives, false positives, true negatives \n",
    "#and false negatives. It is a useful feature to gain more knowledge about our predictions\n",
    "\n",
    "confusionmatrix = confusion_matrix(y_test, model_knnclassfier.predict(X_test))\n",
    "\n",
    "import matplotlib.pyplot as plt\n",
    "\n",
    "fig, ax = plt.subplots(figsize=(3, 3))\n",
    "ax.matshow(confusionmatrix, cmap=plt.cm.Blues, alpha=0.3)\n",
    "for i in range(confusionmatrix.shape[0]):\n",
    "    for j in range(confusionmatrix.shape[1]):\n",
    "        ax.text(x=j, y=i,s=confusionmatrix[i, j], va='center', ha='center', size='xx-large')\n",
    " \n",
    "plt.xlabel('Predictions', fontsize=18)\n",
    "plt.ylabel('Actuals', fontsize=18)\n",
    "plt.title('Confusion Matrix', fontsize=18)"
   ]
  },
  {
   "cell_type": "code",
   "execution_count": 19,
   "id": "fa0396e1",
   "metadata": {},
   "outputs": [
    {
     "name": "stdout",
     "output_type": "stream",
     "text": [
      "              precision    recall  f1-score   support\n",
      "\n",
      "           0       0.83      0.83      0.83        41\n",
      "           1       0.86      0.86      0.86        50\n",
      "\n",
      "    accuracy                           0.85        91\n",
      "   macro avg       0.84      0.84      0.84        91\n",
      "weighted avg       0.85      0.85      0.85        91\n",
      "\n"
     ]
    }
   ],
   "source": [
    "print(classification_report(y_test, model_knnclassfier.predict(X_test)))"
   ]
  },
  {
   "cell_type": "code",
   "execution_count": 30,
   "id": "d38db25c",
   "metadata": {},
   "outputs": [],
   "source": [
    "#We have achieved a precision of 83%. Could we amplify this by parameter tuning?\n",
    "#Lets test it out"
   ]
  },
  {
   "cell_type": "markdown",
   "id": "6f08bed3",
   "metadata": {},
   "source": [
    "### Hyper-Parameter Tuning"
   ]
  },
  {
   "cell_type": "code",
   "execution_count": 31,
   "id": "79724b68",
   "metadata": {},
   "outputs": [
    {
     "name": "stdout",
     "output_type": "stream",
     "text": [
      "Best leaf_size: 1\n",
      "Best p: 1\n",
      "Best n_neighbors: 24\n"
     ]
    }
   ],
   "source": [
    "from sklearn.model_selection import GridSearchCV\n",
    "\n",
    "#List Hyperparameters that we want to tune.\n",
    "leaf_size = list(range(1,50))\n",
    "n_neighbors = list(range(1,30))\n",
    "p=[1,2]\n",
    "#Convert to dictionary\n",
    "hyperparameters = dict(leaf_size=leaf_size, n_neighbors=n_neighbors, p=p)\n",
    "#Create new KNN object\n",
    "knn_2 = KNeighborsClassifier()\n",
    "#Use GridSearch\n",
    "clf = GridSearchCV(knn_2, hyperparameters, cv=10)\n",
    "#Fit the model\n",
    "best_model = clf.fit(X,y)\n",
    "#Print The value of best Hyperparameters\n",
    "print('Best leaf_size:', best_model.best_estimator_.get_params()['leaf_size'])\n",
    "print('Best p:', best_model.best_estimator_.get_params()['p'])\n",
    "print('Best n_neighbors:', best_model.best_estimator_.get_params()['n_neighbors'])"
   ]
  },
  {
   "cell_type": "code",
   "execution_count": 32,
   "id": "8a0d508a",
   "metadata": {},
   "outputs": [
    {
     "name": "stdout",
     "output_type": "stream",
     "text": [
      "Tuned accuracy: 0.8681\n"
     ]
    }
   ],
   "source": [
    "print('Tuned accuracy: {:.4f}'.format(accuracy_score(y_test, best_model.predict(X_test))))"
   ]
  },
  {
   "cell_type": "code",
   "execution_count": 33,
   "id": "836d6f37",
   "metadata": {},
   "outputs": [
    {
     "data": {
      "text/plain": [
       "Text(0.5, 1.0, 'Confusion Matrix')"
      ]
     },
     "execution_count": 33,
     "metadata": {},
     "output_type": "execute_result"
    },
    {
     "data": {
      "image/png": "[encoded data removed]",
      "text/plain": [
       "<Figure size 216x216 with 1 Axes>"
      ]
     },
     "metadata": {
      "needs_background": "light"
     },
     "output_type": "display_data"
    }
   ],
   "source": [
    "confusionmatrix = confusion_matrix(y_test, best_model.predict(X_test))\n",
    "\n",
    "import matplotlib.pyplot as plt\n",
    "\n",
    "fig, ax = plt.subplots(figsize=(3, 3))\n",
    "ax.matshow(confusionmatrix, cmap=plt.cm.Blues, alpha=0.3)\n",
    "for i in range(confusionmatrix.shape[0]):\n",
    "    for j in range(confusionmatrix.shape[1]):\n",
    "        ax.text(x=j, y=i,s=confusionmatrix[i, j], va='center', ha='center', size='xx-large')\n",
    " \n",
    "plt.xlabel('Predictions', fontsize=18)\n",
    "plt.ylabel('Actuals', fontsize=18)\n",
    "plt.title('Confusion Matrix', fontsize=18)"
   ]
  },
  {
   "cell_type": "code",
   "execution_count": 34,
   "id": "9688b421",
   "metadata": {},
   "outputs": [
    {
     "name": "stdout",
     "output_type": "stream",
     "text": [
      "              precision    recall  f1-score   support\n",
      "\n",
      "           0       0.89      0.80      0.85        41\n",
      "           1       0.85      0.92      0.88        50\n",
      "\n",
      "    accuracy                           0.87        91\n",
      "   macro avg       0.87      0.86      0.87        91\n",
      "weighted avg       0.87      0.87      0.87        91\n",
      "\n"
     ]
    }
   ],
   "source": [
    "print(classification_report(y_test, best_model.predict(X_test)))"
   ]
  },
  {
   "cell_type": "code",
   "execution_count": 36,
   "id": "2a5b0080",
   "metadata": {},
   "outputs": [],
   "source": [
    "#As we can see, our model is now slightly better. It can surely improve by tuning it futher\n",
    "#or by doing some more feature engineering."
   ]
  },
  {
   "cell_type": "code",
   "execution_count": 35,
   "id": "43f705f5",
   "metadata": {},
   "outputs": [
    {
     "data": {
      "text/html": [
       "<div>\n",
       "<style scoped>\n",
       "    .dataframe tbody tr th:only-of-type {\n",
       "        vertical-align: middle;\n",
       "    }\n",
       "\n",
       "    .dataframe tbody tr th {\n",
       "        vertical-align: top;\n",
       "    }\n",
       "\n",
       "    .dataframe thead th {\n",
       "        text-align: right;\n",
       "    }\n",
       "</style>\n",
       "<table border=\"1\" class=\"dataframe\">\n",
       "  <thead>\n",
       "    <tr style=\"text-align: right;\">\n",
       "      <th></th>\n",
       "      <th>Actual</th>\n",
       "      <th>Predicted</th>\n",
       "    </tr>\n",
       "  </thead>\n",
       "  <tbody>\n",
       "    <tr>\n",
       "      <th>179</th>\n",
       "      <td>0</td>\n",
       "      <td>0</td>\n",
       "    </tr>\n",
       "    <tr>\n",
       "      <th>228</th>\n",
       "      <td>0</td>\n",
       "      <td>1</td>\n",
       "    </tr>\n",
       "    <tr>\n",
       "      <th>111</th>\n",
       "      <td>1</td>\n",
       "      <td>1</td>\n",
       "    </tr>\n",
       "    <tr>\n",
       "      <th>246</th>\n",
       "      <td>0</td>\n",
       "      <td>0</td>\n",
       "    </tr>\n",
       "    <tr>\n",
       "      <th>60</th>\n",
       "      <td>1</td>\n",
       "      <td>1</td>\n",
       "    </tr>\n",
       "    <tr>\n",
       "      <th>...</th>\n",
       "      <td>...</td>\n",
       "      <td>...</td>\n",
       "    </tr>\n",
       "    <tr>\n",
       "      <th>250</th>\n",
       "      <td>0</td>\n",
       "      <td>0</td>\n",
       "    </tr>\n",
       "    <tr>\n",
       "      <th>19</th>\n",
       "      <td>1</td>\n",
       "      <td>1</td>\n",
       "    </tr>\n",
       "    <tr>\n",
       "      <th>143</th>\n",
       "      <td>1</td>\n",
       "      <td>1</td>\n",
       "    </tr>\n",
       "    <tr>\n",
       "      <th>79</th>\n",
       "      <td>1</td>\n",
       "      <td>1</td>\n",
       "    </tr>\n",
       "    <tr>\n",
       "      <th>144</th>\n",
       "      <td>1</td>\n",
       "      <td>1</td>\n",
       "    </tr>\n",
       "  </tbody>\n",
       "</table>\n",
       "<p>91 rows × 2 columns</p>\n",
       "</div>"
      ],
      "text/plain": [
       "     Actual  Predicted\n",
       "179       0          0\n",
       "228       0          1\n",
       "111       1          1\n",
       "246       0          0\n",
       "60        1          1\n",
       "..      ...        ...\n",
       "250       0          0\n",
       "19        1          1\n",
       "143       1          1\n",
       "79        1          1\n",
       "144       1          1\n",
       "\n",
       "[91 rows x 2 columns]"
      ]
     },
     "execution_count": 35,
     "metadata": {},
     "output_type": "execute_result"
    }
   ],
   "source": [
    "predicted_tuned_values= pd.DataFrame({'Actual': y_test, 'Predicted': best_model.predict(X_test)})\n",
    "predicted_tuned_values.to_csv(\"final_predictions_with_tuning.csv\", index=False)\n",
    "predicted_tuned_values"
   ]
  }
 ],
 "metadata": {
  "kernelspec": {
   "display_name": "Python 3 (ipykernel)",
   "language": "python",
   "name": "python3"
  },
  "language_info": {
   "codemirror_mode": {
    "name": "ipython",
    "version": 3
   },
   "file_extension": ".py",
   "mimetype": "text/x-python",
   "name": "python",
   "nbconvert_exporter": "python",
   "pygments_lexer": "ipython3",
   "version": "3.8.10"
  }
 },
 "nbformat": 4,
 "nbformat_minor": 5
}
